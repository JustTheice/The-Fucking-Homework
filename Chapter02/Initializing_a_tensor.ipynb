{
  "nbformat": 4,
  "nbformat_minor": 0,
  "metadata": {
    "colab": {
      "name": "Initializing_a_tensor.ipynb",
      "provenance": [],
      "toc_visible": true,
      "include_colab_link": true
    },
    "kernelspec": {
      "display_name": "Python 3",
      "language": "python",
      "name": "python3"
    },
    "language_info": {
      "codemirror_mode": {
        "name": "ipython",
        "version": 3
      },
      "file_extension": ".py",
      "mimetype": "text/x-python",
      "name": "python",
      "nbconvert_exporter": "python",
      "pygments_lexer": "ipython3",
      "version": "3.7.6"
    }
  },
  "cells": [
    {
      "cell_type": "markdown",
      "metadata": {
        "id": "view-in-github",
        "colab_type": "text"
      },
      "source": [
        "<a href=\"https://colab.research.google.com/github/JustTheice/The-Fucking-Homework/blob/main/Chapter02/Initializing_a_tensor.ipynb\" target=\"_parent\"><img src=\"https://colab.research.google.com/assets/colab-badge.svg\" alt=\"Open In Colab\"/></a>"
      ]
    },
    {
      "cell_type": "code",
      "metadata": {
        "ExecuteTime": {
          "end_time": "2020-09-25T19:01:20.140985Z",
          "start_time": "2020-09-25T19:01:19.854244Z"
        },
        "id": "ihh6_GZ3ZIY-"
      },
      "source": [
        "import torch\n",
        "x = torch.tensor([[1,2]])\n",
        "y = torch.tensor([[1],[2]])"
      ],
      "execution_count": 2,
      "outputs": []
    },
    {
      "cell_type": "code",
      "metadata": {
        "ExecuteTime": {
          "end_time": "2020-09-25T19:01:20.144749Z",
          "start_time": "2020-09-25T19:01:20.142079Z"
        },
        "id": "Q3M5XCH9ZJ2c",
        "outputId": "e7a5e9d4-1f2e-480b-b8bf-1bbaa164601a",
        "colab": {
          "base_uri": "https://localhost:8080/"
        }
      },
      "source": [
        "print(x.shape)\n",
        "print(y.shape)\n",
        "print(x.dtype)"
      ],
      "execution_count": 3,
      "outputs": [
        {
          "output_type": "stream",
          "name": "stdout",
          "text": [
            "torch.Size([1, 2])\n",
            "torch.Size([2, 1])\n",
            "torch.int64\n"
          ]
        }
      ]
    },
    {
      "cell_type": "code",
      "metadata": {
        "ExecuteTime": {
          "end_time": "2020-09-25T19:01:20.149178Z",
          "start_time": "2020-09-25T19:01:20.146083Z"
        },
        "id": "BTEN4-yhZL4j",
        "outputId": "2b1e8c3d-5d84-4e6c-e006-fb190b8fde87",
        "colab": {
          "base_uri": "https://localhost:8080/"
        }
      },
      "source": [
        "x = torch.tensor([False, 1, 2.0])\n",
        "print(x)\n",
        "# tensor([0., 1., 2.]), being coerced into generic type (double)"
      ],
      "execution_count": 4,
      "outputs": [
        {
          "output_type": "stream",
          "name": "stdout",
          "text": [
            "tensor([0., 1., 2.])\n"
          ]
        }
      ]
    },
    {
      "cell_type": "code",
      "metadata": {
        "ExecuteTime": {
          "end_time": "2020-09-25T19:01:20.156974Z",
          "start_time": "2020-09-25T19:01:20.150527Z"
        },
        "id": "csI_Z5TzZO3B",
        "outputId": "fd544b7c-fc85-4dc9-9cc6-ec9be0ece626",
        "colab": {
          "base_uri": "https://localhost:8080/"
        }
      },
      "source": [
        "torch.zeros((3, 4))"
      ],
      "execution_count": 5,
      "outputs": [
        {
          "output_type": "execute_result",
          "data": {
            "text/plain": [
              "tensor([[0., 0., 0., 0.],\n",
              "        [0., 0., 0., 0.],\n",
              "        [0., 0., 0., 0.]])"
            ]
          },
          "metadata": {},
          "execution_count": 5
        }
      ]
    },
    {
      "cell_type": "code",
      "metadata": {
        "ExecuteTime": {
          "end_time": "2020-09-25T19:01:20.161041Z",
          "start_time": "2020-09-25T19:01:20.157954Z"
        },
        "id": "nocW50iiZUHD",
        "outputId": "474c5be0-6d4b-4163-cad1-248abf2bdccf",
        "colab": {
          "base_uri": "https://localhost:8080/"
        }
      },
      "source": [
        "torch.ones((3, 4))"
      ],
      "execution_count": 6,
      "outputs": [
        {
          "output_type": "execute_result",
          "data": {
            "text/plain": [
              "tensor([[1., 1., 1., 1.],\n",
              "        [1., 1., 1., 1.],\n",
              "        [1., 1., 1., 1.]])"
            ]
          },
          "metadata": {},
          "execution_count": 6
        }
      ]
    },
    {
      "cell_type": "code",
      "metadata": {
        "ExecuteTime": {
          "end_time": "2020-09-25T19:01:20.165239Z",
          "start_time": "2020-09-25T19:01:20.162169Z"
        },
        "id": "owSLyu6CZVke",
        "outputId": "ffb25ac3-13eb-4437-a2d6-68fa8ad67a85",
        "colab": {
          "base_uri": "https://localhost:8080/"
        }
      },
      "source": [
        "torch.randint(low=0, high=10, size=(4,2))"
      ],
      "execution_count": 7,
      "outputs": [
        {
          "output_type": "execute_result",
          "data": {
            "text/plain": [
              "tensor([[1, 6],\n",
              "        [4, 2],\n",
              "        [3, 5],\n",
              "        [2, 7]])"
            ]
          },
          "metadata": {},
          "execution_count": 7
        }
      ]
    },
    {
      "cell_type": "code",
      "metadata": {
        "ExecuteTime": {
          "end_time": "2020-09-25T19:01:20.169014Z",
          "start_time": "2020-09-25T19:01:20.166159Z"
        },
        "id": "3wz1iubjZXLn",
        "outputId": "74a434ff-87b6-4140-bd1c-926e40f6048a",
        "colab": {
          "base_uri": "https://localhost:8080/"
        }
      },
      "source": [
        "torch.rand(3, 4) # val∈(0,1)"
      ],
      "execution_count": 9,
      "outputs": [
        {
          "output_type": "execute_result",
          "data": {
            "text/plain": [
              "tensor([[0.2225, 0.3574, 0.9956, 0.5579],\n",
              "        [0.6150, 0.7932, 0.5889, 0.7878],\n",
              "        [0.8266, 0.1440, 0.0681, 0.6471]])"
            ]
          },
          "metadata": {},
          "execution_count": 9
        }
      ]
    },
    {
      "cell_type": "code",
      "metadata": {
        "ExecuteTime": {
          "end_time": "2020-09-25T19:01:20.174384Z",
          "start_time": "2020-09-25T19:01:20.170128Z"
        },
        "id": "_-_lniB8ZwuX",
        "outputId": "db0f6d89-7271-4a27-9355-88b1f9388e8d",
        "colab": {
          "base_uri": "https://localhost:8080/"
        }
      },
      "source": [
        "torch.randn((3,4)) # val ~ N(0,1)"
      ],
      "execution_count": 10,
      "outputs": [
        {
          "output_type": "execute_result",
          "data": {
            "text/plain": [
              "tensor([[ 0.6789,  0.6770,  0.2716, -1.9090],\n",
              "        [ 0.8410, -0.3629,  1.0755, -0.1161],\n",
              "        [-0.5198,  0.3723, -0.9937,  1.4524]])"
            ]
          },
          "metadata": {},
          "execution_count": 10
        }
      ]
    },
    {
      "cell_type": "code",
      "metadata": {
        "ExecuteTime": {
          "end_time": "2020-09-25T19:22:06.835458Z",
          "start_time": "2020-09-25T19:22:06.829580Z"
        },
        "id": "xCwiFIwk2Bu2",
        "outputId": "62a85035-f6c7-4af2-969e-421bbd470dc5",
        "colab": {
          "base_uri": "https://localhost:8080/"
        }
      },
      "source": [
        "# converting numpyArray into tensor\n",
        "import numpy as np\n",
        "x = np.array([[10,20,30],[2,3,4]])\n",
        "y = torch.tensor(x)\n",
        "print(type(x), type(y))"
      ],
      "execution_count": 13,
      "outputs": [
        {
          "output_type": "stream",
          "name": "stdout",
          "text": [
            "<class 'numpy.ndarray'> <class 'torch.Tensor'>\n"
          ]
        }
      ]
    },
    {
      "cell_type": "code",
      "metadata": {
        "id": "h1EJkME52Bu4"
      },
      "source": [],
      "execution_count": null,
      "outputs": []
    }
  ]
}